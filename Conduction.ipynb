{
 "cells": [
  {
   "cell_type": "code",
   "execution_count": 2,
   "id": "944dcba8",
   "metadata": {},
   "outputs": [],
   "source": [
    "import math\n",
    "import sklearn\n",
    "import numpy as np\n",
    "import pandas as pd\n",
    "import matplotlib.pyplot as plt\n",
    "import scipy"
   ]
  },
  {
   "cell_type": "markdown",
   "id": "bbe8a21b",
   "metadata": {},
   "source": [
    "# Conduction"
   ]
  },
  {
   "cell_type": "markdown",
   "id": "7eb679ae",
   "metadata": {},
   "source": [
    "### Fourier's law -- General Form\n",
    "\n",
    "$$\\dot{Q} = -kA \\dfrac{dT}{dx} = \\dot{m} C_p (T_2 - T_1)$$\n",
    "\n",
    "\n",
    "$$\\text{Rate of heat conduction} \\propto \\dfrac{\\text{(Area) (Temperature Difference)}}{\\text{Thickness}}$$\n",
    "\n",
    "\n",
    "$\\textbf{Notation:}$ \n",
    "\n",
    "$\\dot{Q}$ is the Heat transfer rate $[W] = [\\frac{J}{s}]$\n",
    "\n",
    "$k$ is the thermal conductivity $[\\frac{W}{m \\cdot K}]$\n",
    "\n",
    "$A$ is the area at which heat is exchanged $[m^2]$\n",
    "\n",
    "$C_p$ is the heat capacity of the material at which conduction occurs $[\\frac{J}{kg \\cdot K}]$\n",
    "\n",
    "$\\dot{m}$ is the mass flow rate $[\\frac{kg}{s}]$\n",
    "\n",
    "\n",
    "$\\textbf{Energy balance:}$\n",
    "\n",
    "$$\\text{(Rate of heat transfer into wall)} - \\text{(Rate of heat transfer out of wall)} = \\text{(Rate of change of the energy of the wall)}$$\n",
    "\n",
    "$\\dfrac{dT}{dx}$ is the temperature gradient\n",
    "\n",
    "\n",
    "$$\\text{Rate of heat conduction} \\propto - \\text{Temperature gradient}$$\n",
    "\n",
    "$$\\dfrac{\\dot{q}}{k} = - \\dfrac{dT}{dx}$$\n",
    "\n",
    "$\\textbf{Notation:}$ \n",
    "\n",
    "$\\dot{q} = (\\frac{\\dot{Q}}{A})$ is the heat flux $[\\frac{W}{m^2}]$"
   ]
  },
  {
   "cell_type": "markdown",
   "id": "e72b4b31",
   "metadata": {},
   "source": [
    "### Fourier's law -- Plate\n",
    "\n",
    "Assumption: No heat generation\n",
    "\n",
    "Derivation:\n",
    "$$\\dot{Q} = -kA \\dfrac{dT}{dx}$$\n",
    "\n",
    "$$\\dot{Q} \\cdot dx = -k \\cdot A \\cdot dT$$\n",
    "\n",
    "$$ \\dot{Q} \\int_{x_1}^{x_2} \\, dx = -k A \\cdot \\int_{T_1}^{T_2} \\, dT$$\n",
    "\n",
    "$$ \\dot{Q} (x_2 - x_1) = - kA (T_2 - T_1)$$\n",
    "\n",
    "$$\\dot{Q} = - \\dfrac{kA}{x_2 - x_1} (T_2 - T_1)$$\n",
    "\n",
    "$\\textbf{Notation:}$\n",
    "\n",
    "$\\dot{Q}$ is the Heat transfer rate $[W] = [\\frac{J}{s}]$\n",
    "\n",
    "$k$ is the thermal conductivity $[\\frac{W}{m \\cdot K}]$\n",
    "\n",
    "$A$ is the target area of the plate at which heat is exchanged $[m^2]$\n",
    "\n",
    "$(x_2 - x_1)$ is the thickness of the plate $[m]$\n"
   ]
  },
  {
   "cell_type": "code",
   "execution_count": 5,
   "id": "1e5a9497",
   "metadata": {},
   "outputs": [],
   "source": [
    "def calHeatPlate(k,A,x2,x1,T2,T1):\n",
    "    \"\"\"\n",
    "    Assuming no heat generated\n",
    "    Return the Heat transfer via a plate\n",
    "    \"\"\"\n",
    "    \n",
    "    numer = k * A * (T2 - T1)\n",
    "    \n",
    "    denom = x2 - x1\n",
    "    \n",
    "    return -numer/denom;\n",
    "\n",
    "\n",
    "def findOneParameter(guess,otherParams):\n",
    "    \"\"\"\n",
    "    (Not declared) \n",
    "    Optimise one parameter given the other parameters\n",
    "    \"\"\"\n",
    "    return"
   ]
  },
  {
   "cell_type": "markdown",
   "id": "f1fad309",
   "metadata": {},
   "source": [
    "$\\textbf{If the thermal conductivity is an affine transformation:}$\n",
    "\n",
    "such that $k = k_0 + k_1 T$ where $k_1$ is the temperature coefficient of thermal conductivity.\n",
    "\n",
    "Derivation:\n",
    "$$\\dot{Q} = -kA \\dfrac{dT}{dx}$$\n",
    "\n",
    "$$\\dot{Q} \\cdot dx = -(k_0 + k_1T) \\cdot A \\cdot dT$$\n",
    "\n",
    "$$ \\dot{Q} \\int_{x_1}^{x_2} \\, dx = -k_0 A \\cdot \\int_{T_1}^{T_2} \\, dT  -k_1 A \\cdot \\int_{T_1}^{T_2} T \\, dT$$\n",
    "\n",
    "$$ \\dot{Q} (x_2 - x_1) = - k_0 A (T_2 - T_1) - \\dfrac{k_1 A}{2} (T_2^2 - T_1^2)$$\n",
    "\n",
    "$$\\dot{Q} = - \\dfrac{k_0 A}{x_2 - x_1} (T_2 - T_1) - \\dfrac{k_1 A}{2 (x_2 - x_1)} (T_2^2 - T_1^2)$$"
   ]
  },
  {
   "cell_type": "code",
   "execution_count": 6,
   "id": "a2657584",
   "metadata": {},
   "outputs": [],
   "source": [
    "def calHeatPlate(k0,k1,A,x2,x1,T2,T1):\n",
    "    \"\"\"\n",
    "    Assuming no heat generated\n",
    "    Return the Heat transfer via a plate\n",
    "    with thermal conductvity is an affine transformation\n",
    "    \"\"\"\n",
    "    \n",
    "    numer1 = k0 * A * (T2 - T1)\n",
    "    denom1 = x2 - x1\n",
    "    \n",
    "    numer2 = k1 * A * (T2**2 - T1**2)\n",
    "    denom2 = 2 * denom1\n",
    "    \n",
    "    return -numer1/denom1 - numer2/denom2;\n",
    "\n",
    "\n",
    "def findOneParameter(guess,otherParams):\n",
    "    \"\"\"\n",
    "    (Not declared) \n",
    "    Optimise one parameter given the other parameters\n",
    "    \"\"\"\n",
    "    return"
   ]
  },
  {
   "cell_type": "markdown",
   "id": "ffb2f29d",
   "metadata": {},
   "source": [
    "### Fourier's law -- Hollow Sphere\n",
    "\n",
    "Assumption: No heat generation\n",
    "\n",
    "Derivation:\n",
    "$$\\dot{Q} = -kA \\dfrac{dT}{dx}$$\n",
    "\n",
    "$$\\dot{Q} = -k \\cdot (4\\pi r^2) \\dfrac{dT}{dr}$$\n",
    "\n",
    "$$\\dot{Q} \\dfrac{dr}{r^2} = -k \\cdot (4\\pi) \\cdot dT$$\n",
    "\n",
    "$$ \\dot{Q} \\int_{r_1}^{r_2} \\dfrac{1}{r^2} \\, dr = -k \\cdot (4 \\pi) \\int_{T_1}^{T_2} \\, dT$$\n",
    "\n",
    "$$ \\dot{Q} = - \\dfrac{4k \\pi}{(\\frac{1}{r_1} - \\frac{1}{r_2})} (T_2 - T_1)$$\n",
    "\n",
    "$\\textbf{Notation:}$\n",
    "\n",
    "$\\dot{Q}$ is the Heat transfer rate $[W] = [\\frac{J}{s}]$\n",
    "\n",
    "$k$ is the thermal conductivity $[\\frac{W}{m \\cdot K}]$\n",
    "\n",
    "$(4\\pi r^2)$ is the surface area of a sphere at which heat is exchanged $[m^2]$\n",
    "\n",
    "\n",
    "$\\textbf{What about in polar coordinates?}$"
   ]
  },
  {
   "cell_type": "code",
   "execution_count": null,
   "id": "60c751d0",
   "metadata": {},
   "outputs": [],
   "source": [
    "def calHeatSphere(k,r2,r1,T2,T1):\n",
    "    \"\"\"\n",
    "    Assuming no heat generated\n",
    "    Return the Heat transfer on a sphere\n",
    "    \"\"\"\n",
    "    \n",
    "    numer = 4 * k * math.pi * (T2 - T1)\n",
    "    \n",
    "    denom = 1/r1 - 1/r2\n",
    "    \n",
    "    return -numer/denom;\n",
    "\n",
    "\n",
    "def findOneParameter(guess,otherParams):\n",
    "    \"\"\"\n",
    "    (Not declared) \n",
    "    Optimise one parameter given the other parameters\n",
    "    \"\"\"\n",
    "    return"
   ]
  },
  {
   "cell_type": "markdown",
   "id": "be895910",
   "metadata": {},
   "source": [
    "### Fourier's law -- Hollow Cylinder\n",
    "\n",
    "Assumption: No heat generation\n",
    "\n",
    "Derivation:\n",
    "$$\\dot{Q} = -kA \\dfrac{dT}{dx}$$\n",
    "\n",
    "$$\\dot{Q} = -k \\cdot (2\\pi r \\cdot L) \\dfrac{dT}{dr}$$\n",
    "\n",
    "$$\\dot{Q} \\dfrac{dr}{r} = -k \\cdot (2\\pi L) \\cdot dT$$\n",
    "\n",
    "$$ \\dot{Q} \\int_{r_1}^{r_2} \\dfrac{1}{r} \\, dr = -k \\cdot (2 \\pi L) \\int_{T_1}^{T_2} \\, dT$$\n",
    "\n",
    "$$ \\dot{Q} = - \\dfrac{2k \\pi L}{ln(\\frac{r_2}{r_1})} (T_2 - T_1)$$\n",
    "\n",
    "$\\textbf{Notation:}$\n",
    "\n",
    "$\\dot{Q}$ is the Heat transfer rate $[W] = [\\frac{J}{s}]$\n",
    "\n",
    "$k$ is the thermal conductivity $[\\frac{W}{m \\cdot K}]$\n",
    "\n",
    "$(2 \\pi r \\cdot L)$ is the surface area of a cylinder(pipe) at which heat is exchanged $[m^2]$\n",
    "\n",
    "$L$ is the length of the cylinder (pipe) $[m]$"
   ]
  },
  {
   "cell_type": "code",
   "execution_count": 3,
   "id": "c0cd6ddc",
   "metadata": {},
   "outputs": [],
   "source": [
    "def calHeatCylinder(k,L,r2,r1,T2,T1):\n",
    "    \"\"\"\n",
    "    Assuming no heat generated\n",
    "    Return the Heat transfer on a cylinder\n",
    "    \"\"\"\n",
    "    \n",
    "    numer = 2 * k * math.pi * L * (T2 - T1)\n",
    "    \n",
    "    denom = math.log(r2) - math.log(r1)\n",
    "    \n",
    "    return -numer/denom;\n",
    "\n",
    "\n",
    "def findOneParameter(guess,otherParams):\n",
    "    \"\"\"\n",
    "    (Not declared) \n",
    "    Optimise one parameter given the other parameters\n",
    "    \"\"\"\n",
    "    return"
   ]
  },
  {
   "cell_type": "markdown",
   "id": "2800abf5",
   "metadata": {},
   "source": [
    "# Thermal conductivity"
   ]
  },
  {
   "cell_type": "markdown",
   "id": "9b423149",
   "metadata": {},
   "source": [
    "### Compare heat capacity (ability to retain heat) and thermal conductivity\n",
    "### Find out how they are related\n",
    "### How to find them both (if both data are not given)\n",
    "\n",
    "### Perry's handbook: Temperature dependent diagram (correlations) for different materials (thermal conductivity)"
   ]
  },
  {
   "cell_type": "markdown",
   "id": "549a3cd4",
   "metadata": {},
   "source": [
    "**Assumption: Materials are isotropic (In real, geometries are different and so properties may not be preserved)**\n",
    "\n",
    "k varies with temperature (temperature dependent)\n",
    "\n",
    "Temperature dependence is complicated. \n",
    "\n",
    "(Optional: see how it is analysed, suited my math ability)\n",
    "\n",
    "(Take the value of k at average temperature (T_av = (T1 + T2) / 2) and fix it for each calculation)\n",
    "\n",
    "**1st assumption:** Taking the value of k at average temperature (T_av = (T1 + T2) / 2) and fix it for each calculation\n",
    "\n",
    "**2nd assumption:** Since the average temperature is used, therefore for generality, we assume the thermal conductivity is constant throughout the material) (Note: This can be proved in finite element method)"
   ]
  },
  {
   "cell_type": "markdown",
   "id": "d827d05d",
   "metadata": {},
   "source": [
    "# Electrical Analogy of Heat Transfer"
   ]
  },
  {
   "cell_type": "markdown",
   "id": "38c465a0",
   "metadata": {},
   "source": [
    "### The heat transfer rate can be written as: \n",
    "\n",
    "$Q \\rightarrow I \\hspace{1cm} \\text{Current}$\n",
    "\n",
    "$\\Delta T \\rightarrow \\Delta V \\hspace{1cm} \\text{Potential difference}$\n",
    "\n",
    "$\\dfrac{kA}{\\Delta x} \\rightarrow \\dfrac{1}{R} \\hspace{1cm} \\text{Conductance}$\n",
    "\n",
    "$\\dfrac{\\Delta x}{kA} \\rightarrow R \\hspace{1cm} \\text{Resistance}$\n",
    "\n"
   ]
  },
  {
   "cell_type": "markdown",
   "id": "343ed7f7",
   "metadata": {},
   "source": [
    "## Thermal resistance networks\n",
    "\n",
    "Assumptions: \n",
    "\n",
    "- Thermal conductivity (k) $[\\frac{W}{m \\cdot K}]$ is constant\n",
    "\n",
    "- Area at which heat is exchanged (A)$[m^2]$ is constant\n",
    "\n",
    "- Average temperature is applied across\n",
    "\n",
    "- One-dimensional Heat transfer\n",
    "\n",
    "\n",
    "How to build Thermal resistance networks ? \n",
    "\n",
    "1. Determine the geometry (plate, sphere, cylinder) of heat transfer\n",
    "2. Construct the thermal resistance networks by the electrical analogy"
   ]
  },
  {
   "cell_type": "code",
   "execution_count": null,
   "id": "75ca4b52",
   "metadata": {},
   "outputs": [],
   "source": []
  },
  {
   "cell_type": "code",
   "execution_count": null,
   "id": "6fba815b",
   "metadata": {},
   "outputs": [],
   "source": []
  },
  {
   "cell_type": "code",
   "execution_count": null,
   "id": "234fd4eb",
   "metadata": {},
   "outputs": [],
   "source": []
  },
  {
   "cell_type": "code",
   "execution_count": null,
   "id": "ea6e1edf",
   "metadata": {},
   "outputs": [],
   "source": []
  },
  {
   "cell_type": "code",
   "execution_count": null,
   "id": "996391f3",
   "metadata": {},
   "outputs": [],
   "source": []
  },
  {
   "cell_type": "markdown",
   "id": "6d7fb53b",
   "metadata": {},
   "source": [
    "# Thermal Insulation"
   ]
  },
  {
   "cell_type": "code",
   "execution_count": null,
   "id": "93baef64",
   "metadata": {},
   "outputs": [],
   "source": [
    "# plates, cylinder(pipes)"
   ]
  },
  {
   "cell_type": "code",
   "execution_count": null,
   "id": "fc70f3fe",
   "metadata": {},
   "outputs": [],
   "source": []
  },
  {
   "cell_type": "code",
   "execution_count": null,
   "id": "341b250f",
   "metadata": {},
   "outputs": [],
   "source": []
  },
  {
   "cell_type": "code",
   "execution_count": null,
   "id": "7b29864b",
   "metadata": {},
   "outputs": [],
   "source": []
  },
  {
   "cell_type": "code",
   "execution_count": null,
   "id": "ae9afef7",
   "metadata": {},
   "outputs": [],
   "source": []
  },
  {
   "cell_type": "code",
   "execution_count": null,
   "id": "2159f2f9",
   "metadata": {},
   "outputs": [],
   "source": []
  },
  {
   "cell_type": "code",
   "execution_count": null,
   "id": "cfa28ba7",
   "metadata": {},
   "outputs": [],
   "source": []
  },
  {
   "cell_type": "code",
   "execution_count": null,
   "id": "33b9d29c",
   "metadata": {},
   "outputs": [],
   "source": []
  },
  {
   "cell_type": "code",
   "execution_count": null,
   "id": "fbb24fdb",
   "metadata": {},
   "outputs": [],
   "source": []
  },
  {
   "cell_type": "code",
   "execution_count": null,
   "id": "46c3692b",
   "metadata": {},
   "outputs": [],
   "source": []
  },
  {
   "cell_type": "markdown",
   "id": "17877789",
   "metadata": {},
   "source": [
    "# Conduction and Heat Generation"
   ]
  },
  {
   "cell_type": "markdown",
   "id": "25377b6a",
   "metadata": {},
   "source": [
    "$\\textbf{Energy balance:}$\n",
    "\n",
    "$$\\text{(Rate of heat transfer into wall)} + \\text{(Rate of heat generated)} - \\text{(Rate of heat transfer out of wall)} = \\text{(Rate of change of the energy of the wall)}$$"
   ]
  },
  {
   "cell_type": "code",
   "execution_count": null,
   "id": "2f383e3a",
   "metadata": {},
   "outputs": [],
   "source": []
  }
 ],
 "metadata": {
  "kernelspec": {
   "display_name": "Python 3 (ipykernel)",
   "language": "python",
   "name": "python3"
  },
  "language_info": {
   "codemirror_mode": {
    "name": "ipython",
    "version": 3
   },
   "file_extension": ".py",
   "mimetype": "text/x-python",
   "name": "python",
   "nbconvert_exporter": "python",
   "pygments_lexer": "ipython3",
   "version": "3.8.10"
  }
 },
 "nbformat": 4,
 "nbformat_minor": 5
}
