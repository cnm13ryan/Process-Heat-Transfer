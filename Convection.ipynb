{
 "cells": [
  {
   "cell_type": "code",
   "execution_count": 1,
   "id": "ca963a87",
   "metadata": {},
   "outputs": [
    {
     "name": "stderr",
     "output_type": "stream",
     "text": [
      "/home/cnm13ryan/.local/lib/python3.8/site-packages/pandas/core/computation/expressions.py:20: UserWarning: Pandas requires version '2.7.3' or newer of 'numexpr' (version '2.7.1' currently installed).\n",
      "  from pandas.core.computation.check import NUMEXPR_INSTALLED\n"
     ]
    }
   ],
   "source": [
    "import math\n",
    "import sklearn\n",
    "import numpy as np\n",
    "import pandas as pd\n",
    "import matplotlib.pyplot as plt\n",
    "import scipy"
   ]
  },
  {
   "cell_type": "markdown",
   "id": "0a982202",
   "metadata": {},
   "source": [
    "# Convection\n",
    "\n",
    "Convection is a combination of conduction and fluid motion.\n",
    "\n",
    "\n",
    "The motion of a fluid contributes directly to the transfer of energy from a surface to the bulk of the fluid.\n",
    "\n",
    "Fluid motion is proportional to convection rates\n",
    "Fluid flow complicates the determination of convection rates\n",
    "It is necessary to describe the flow field and the temperatures profiles."
   ]
  },
  {
   "cell_type": "markdown",
   "id": "8514d2b7",
   "metadata": {},
   "source": [
    "### Classification of flows\n",
    "\n",
    "#### Viscous v.s. Inviscid (Regions of flow)\n",
    "\n",
    "Friction is a key factor. \n",
    "Viscosity is a measure of friction in fluid \n",
    "\n",
    "#### Internal v.s. External (Flow)\n",
    "\n",
    "Fluid that is completely bounded by solid surfaces (Internal)\n",
    "If not, then (External)\n",
    "\n",
    "#### Laminar v.s. Turbulent (Flow)\n",
    "\n",
    "Laminar: Highly ordered, smooth layers of fluid\n",
    "\n",
    "Turbulent: Highly disordered motion with velocity fluctuation\n",
    "\n",
    "#### Natural v.s. Forced (Flow)\n",
    "\n",
    "Forced: Fluid movement is casued by external driving forces, it is caused by agitation or by pressure difference\n",
    "\n",
    "Natural: Fluid movement is free, it is caused by difference in density between hotter and colder regions (Buoyancy)"
   ]
  },
  {
   "cell_type": "markdown",
   "id": "505974d3",
   "metadata": {},
   "source": [
    "## Methodology for convection calculation\n",
    "\n",
    "#### 1 Recognise the nature of the flow geometry\n",
    "\n",
    "- Plate\n",
    "- Sphere\n",
    "- Cylinder\n",
    "\n",
    "\n",
    "#### 2 Specify the temperature range and evaluate the properties of the fluid within that temperature range\n",
    "\n",
    "- For moderate boundary layer temperature differences, the film temperature can be used. \n",
    "- Otherwise correction ratios need to be used.\n",
    "\n",
    "\n",
    "#### 3 Calculate the Reynolds Number\n",
    "\n",
    "- Determine flow type (laminar or turbulent)\n",
    "- Determine the point at which the flow type changes.\n",
    "\n",
    "#### 4 Decide if a local or average heat transfer coefficient is required\n",
    "\n",
    "- Determine heat transfer coefficient (local / average) for laminar only\n",
    "- Determine heat transfer coefficient (local / average) for turbulent only\n",
    "- Determine heat transfer coefficient (local / average) for laminar and turbulent combined\n",
    "\n",
    "#### 5 Select the appropriate correlation\n"
   ]
  },
  {
   "cell_type": "markdown",
   "id": "7a11815f",
   "metadata": {},
   "source": []
  },
  {
   "cell_type": "markdown",
   "id": "faf5f1cb",
   "metadata": {},
   "source": [
    "## Newton's law of cooling\n",
    "\n",
    "$$ \\dot{Q} = -h A (T_2 - T_1)$$\n",
    "\n",
    "$\\textbf{Notation:}$ \n",
    "\n",
    "$\\dot{Q}$ is the Heat transfer rate $[W] = [\\frac{J}{s}]$\n",
    "\n",
    "$A$ is the area at which heat is exchanged $[m^2]$\n",
    "\n",
    "$h$ is the heat transfer coefficient $[\\frac{W}{m^2 \\cdot K}]$\n",
    "\n",
    "$h$ is not a property of the fluid, it is dependent on the variables affecting convection such as surface geometry and the nature of the fluid."
   ]
  },
  {
   "cell_type": "markdown",
   "id": "b8e0065f",
   "metadata": {},
   "source": [
    "### Ways to determine $h$\n",
    "\n",
    "1. Estimated by dividing the thermal conductivity of the convection fluid by a length scale\n",
    "\n",
    "2. Calculated from the Nusselt Number ($Nu$). Online calculators are available\n",
    "\n",
    "3. Experimental assessment (challenging especially if small fluxes are to be measured $(< 0.2 \\, [\\frac{W}{cm^2}])$"
   ]
  },
  {
   "cell_type": "code",
   "execution_count": null,
   "id": "97685552",
   "metadata": {},
   "outputs": [],
   "source": []
  },
  {
   "cell_type": "code",
   "execution_count": 2,
   "id": "c5c99082",
   "metadata": {},
   "outputs": [],
   "source": [
    "# Refer to Process Heat transfer: principles and applications\n",
    "#     Book by R.W.Serth; Thomas G. Lestina"
   ]
  },
  {
   "cell_type": "markdown",
   "id": "079cc434",
   "metadata": {},
   "source": [
    "## Forced Convection \n"
   ]
  },
  {
   "cell_type": "code",
   "execution_count": null,
   "id": "4fccc3b3",
   "metadata": {},
   "outputs": [],
   "source": []
  },
  {
   "cell_type": "code",
   "execution_count": null,
   "id": "899cacce",
   "metadata": {},
   "outputs": [],
   "source": []
  },
  {
   "cell_type": "code",
   "execution_count": null,
   "id": "80b0b558",
   "metadata": {},
   "outputs": [],
   "source": []
  },
  {
   "cell_type": "code",
   "execution_count": null,
   "id": "059e1eef",
   "metadata": {},
   "outputs": [],
   "source": []
  },
  {
   "cell_type": "code",
   "execution_count": null,
   "id": "51b0a57a",
   "metadata": {},
   "outputs": [],
   "source": []
  },
  {
   "cell_type": "code",
   "execution_count": null,
   "id": "5cec54ae",
   "metadata": {},
   "outputs": [],
   "source": []
  },
  {
   "cell_type": "code",
   "execution_count": null,
   "id": "9f410407",
   "metadata": {},
   "outputs": [],
   "source": []
  }
 ],
 "metadata": {
  "kernelspec": {
   "display_name": "Python 3 (ipykernel)",
   "language": "python",
   "name": "python3"
  },
  "language_info": {
   "codemirror_mode": {
    "name": "ipython",
    "version": 3
   },
   "file_extension": ".py",
   "mimetype": "text/x-python",
   "name": "python",
   "nbconvert_exporter": "python",
   "pygments_lexer": "ipython3",
   "version": "3.8.10"
  }
 },
 "nbformat": 4,
 "nbformat_minor": 5
}
